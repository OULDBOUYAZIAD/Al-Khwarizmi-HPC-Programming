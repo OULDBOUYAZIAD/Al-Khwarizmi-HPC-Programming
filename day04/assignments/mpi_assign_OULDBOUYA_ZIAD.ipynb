{
 "cells": [
  {
   "cell_type": "markdown",
   "metadata": {},
   "source": [
    "## Exercise 1 Hello World\n",
    "\n",
    "1. Write an MPI program displaying the number of processes used for the execution and the rank of each process.\n",
    "2. Test the programs obtained with different numbers of threads for the parallel program.\n",
    "\n",
    "**Output Example**\n",
    "```shell\n",
    "Hello from the rank 2 process\n",
    "Hello from the rank 0 process\n",
    "Hello from the rank 3 process\n",
    "Hello from the rank 1 process\n",
    "Parallel execution of hello_world with 4 process\n",
    "```\n",
    "*Note that the output order maybe different*"
   ]
  },
  {
   "cell_type": "code",
   "execution_count": 1,
   "metadata": {},
   "outputs": [
    {
     "name": "stdout",
     "output_type": "stream",
     "text": [
      "Overwriting hello.py\n"
     ]
    }
   ],
   "source": [
    " %%file hello.py\n",
    " # write your program here\n",
    "from mpi4py import MPI\n",
    "TAILLE = comm.Get_size()\n",
    "RANK = comm.Get_rank()\n",
    "COMM = MPI.COMM_WORLD\n",
    "print('Hello from the rank',RANK,'process')\n",
    "COMM.Barrier()\n",
    "if RANK == 0:\n",
    "    print('Parallel execution of hello_world with ',TAILLE,'process')"
   ]
  },
  {
   "cell_type": "code",
   "execution_count": 49,
   "metadata": {},
   "outputs": [],
   "source": [
    "# enter command for compile and run the program\n",
    "!mpirun -n 6 python3 hello.py"
   ]
  },
  {
   "cell_type": "markdown",
   "metadata": {},
   "source": [
    "## Exercise 2 Sharing Data \n",
    "\n",
    "A common need is for one process to get data from the user, either by reading from the terminal or command line arguments, and then to distribute this information to all other processors.\n",
    "\n",
    "Write a program that reads an integer value from the terminal and distributes the value to all of the MPI processes. Each process should print out its rank and the value it received. Values should be read until a negative integer is given as input.\n",
    "\n",
    "You may want to use these MPI routines in your solution:\n",
    "`Get_rank` `Bcast` \n",
    "\n",
    "**Output Example**\n",
    "```shell\n",
    "10\n",
    "Process 0 got 10\n",
    "Process 1 got 10\n",
    "```"
   ]
  },
  {
   "cell_type": "code",
   "execution_count": 2,
   "metadata": {},
   "outputs": [
    {
     "name": "stdout",
     "output_type": "stream",
     "text": [
      "Writing sharing.py\n"
     ]
    }
   ],
   "source": [
    " %%file sharing.py\n",
    " # write your program here\n",
    "from mpi4py import MPI\n",
    "TAILLE = comm.Get_size()\n",
    "RANK = comm.Get_rank()\n",
    "COMM = MPI.COMM_WORLD\n",
    "while True:\n",
    "    if RANK == 0:\n",
    "        sendbuf = int(\"entrer un entier\")\n",
    "    else: \n",
    "        sendbuf = None    \n",
    "    recvbuf = COMM.bcast(sendbuf, root = 0)    \n",
    "    print('je suis le proc ',rank,\"j'ai recu \",recvbuf)   \n",
    "    if recvbuf < 0: break"
   ]
  },
  {
   "cell_type": "code",
   "execution_count": 3,
   "metadata": {},
   "outputs": [
    {
     "name": "stderr",
     "output_type": "stream",
     "text": [
      "'mpirun' n’est pas reconnu en tant que commande interne\n",
      "ou externe, un programme exécutable ou un fichier de commandes.\n"
     ]
    }
   ],
   "source": [
    "# enter command for compile and run the program\n",
    "!mpirun -n 6 python3 sharing.py"
   ]
  },
  {
   "cell_type": "markdown",
   "metadata": {},
   "source": [
    "## Exercise 3 Sending in a ring (broadcast by ring)\n",
    "\n",
    "Write a program that takes data from process zero and sends it to all of the other processes by sending it in a ring. That is, process i should receive the data and send it to process i+1, until the last process is reached.\n",
    "Assume that the data consists of a single integer. Process zero reads the data from the user.\n",
    "![](../data/ring.gif)\n",
    "\n",
    "You may want to use these MPI routines in your solution:\n",
    "`Send` `Recv` "
   ]
  },
  {
   "cell_type": "code",
   "execution_count": 5,
   "metadata": {},
   "outputs": [
    {
     "name": "stdout",
     "output_type": "stream",
     "text": [
      "Writing send_recievevers1.py\n"
     ]
    }
   ],
   "source": [
    "%%file send_recievevers1.py\n",
    "TAILLE = comm.Get_size()\n",
    "RANK = comm.Get_rank()\n",
    "COMM = MPI.COMM_WORLD\n",
    "tag = 0\n",
    "if RANK == 0:\n",
    "    sendbuf = int(input(\"entrer un entier\"))\n",
    "    recevbuf=COMM.sendrecv(sendbuf, RANK + 1,sendtag = tag ,recvtag= tag)\n",
    "    print(\"je suis le proc \", RANK+1,\" j'ai recu \", recevbuf,\" from process \", Rank)\n",
    "else :\n",
    "    if RANK != N-1:\n",
    "        recevbuf=COMM.sendrecv(sendbuf, RANK + 1,sendtag = tag ,recvtag = tag)\n",
    "        print(\"je suis le proc  \", RANK+1,\" j'ai recu \", sendbuf,\" from process \", Rank)"
   ]
  },
  {
   "cell_type": "code",
   "execution_count": 170,
   "metadata": {},
   "outputs": [],
   "source": [
    "# enter command for compile and run the program\n",
    "!mpirun -n 4 python3 ring.py"
   ]
  },
  {
   "cell_type": "markdown",
   "metadata": {},
   "source": [
    "## Exercise 4 Matrix vector product\n",
    "\n",
    "1. Use the `MatrixVectorMult.py` file to implement the MPI version of matrix vector multiplication.\n",
    "2. Process 0 compares the result with the `dot` product.\n",
    "3. Plot the scalability of your implementation. \n",
    "\n",
    "**Output Example**\n",
    "```shell\n",
    "CPU time of parallel multiplication using 2 processes is  174.923446\n",
    "The error comparing to the dot product is : 1.4210854715202004e-14\n",
    "```"
   ]
  },
  {
   "cell_type": "code",
   "execution_count": 6,
   "metadata": {},
   "outputs": [
    {
     "name": "stdout",
     "output_type": "stream",
     "text": [
      "Writing MatrixVectorMult.py\n"
     ]
    }
   ],
   "source": [
    "%%file MatrixVectorMult.py\n",
    " # write your program here\n",
    "import time \n",
    "import numpy as np\n",
    "from scipy.sparse import lil_matrix\n",
    "from numpy.random import rand, seed\n",
    "from numba import njit\n",
    "from mpi4py import MPI\n",
    "import math\n",
    "\n",
    "''' This program compute parallel csc matrix vector multiplication using mpi '''\n",
    "\n",
    "COMM = MPI.COMM_WORLD\n",
    "nbOfproc = COMM.Get_size()\n",
    "RANK = COMM.Get_rank()\n",
    "\n",
    "seed(42)\n",
    "\n",
    "def matrixVectorMult(A, b, x):\n",
    "    \n",
    "    row, col = A.shape\n",
    "    for i in range(row):\n",
    "        a = A[i]\n",
    "        for j in range(col):\n",
    "            x[i] += a[j] * b[j]\n",
    "\n",
    "    return 0\n",
    "\n",
    "########################initialize matrix A and vector b ######################\n",
    "#matrix sizes\n",
    "SIZE = 1000\n",
    "Local_size = math.floor(SIZE / nbOfproc)\n",
    "\n",
    "\n",
    "# counts = block of each proc\n",
    "proc_block = Local_size * SIZE\n",
    "counts =  [proc_block for i in range(nbOfproc)]\n",
    "\n",
    "if RANK == 0:\n",
    "    A = lil_matrix((SIZE, SIZE))\n",
    "    A[0, :100] = rand(100)\n",
    "    A[1, 100:200] = A[0, :100]\n",
    "    A.setdiag(rand(SIZE))\n",
    "    A = A.toarray()\n",
    "    b = rand(SIZE)\n",
    "else :\n",
    "    A = None\n",
    "    b = None\n",
    "\n",
    "\n",
    "\n",
    "#########Send b to all procs and scatter A (each proc has its own local matrix#####\n",
    "LocalMatrix = np.zeros((Local_size, SIZE), dtype = np.float64)\n",
    "b = COMM.bcast(b, root = 0)\n",
    "# Scatter the matrix A\n",
    "COMM.Scatterv([A, counts, MPI.DOUBLE], LocalMatrix, root = 0)\n",
    "#####################Compute A*b locally#######################################\n",
    "LocalX = np.zeros(Local_size)\n",
    "start = MPI.Wtime()\n",
    "matrixVectorMult(LocalMatrix, b, LocalX)\n",
    "stop = MPI.Wtime()\n",
    "if RANK == 0:\n",
    "    print(\"CPU time of parallel multiplication using\", nbOfproc,\"processes is \", (stop - start)*1000)\n",
    "\n",
    "\n",
    "##################Gather te results ###########################################\n",
    "# sendcouns = local size of result\n",
    "sendcounts = [Local_size for i in range(nbOfproc)] \n",
    "if RANK == 0: \n",
    "    X = np.zeros(SIZE, dtype = np.float64)\n",
    "else :\n",
    "    X = None\n",
    "\n",
    "# Gather the result into X\n",
    "COMM.Gatherv(LocalX,[X, sendcounts, MPI.DOUBLE], root = 0)\n",
    "\n",
    "##################Print the results ###########################################\n",
    "\n",
    "if RANK == 0 :\n",
    "    X_ = A.dot(b)\n",
    "    print(\"The error comparing to the dot product is :\", np.max(X_ - X))"
   ]
  },
  {
   "cell_type": "code",
   "execution_count": 48,
   "metadata": {},
   "outputs": [],
   "source": [
    "# enter command for compile and run the program\n",
    "!mpirun -n 2 python3 MatrixVectorMult_V0.py"
   ]
  },
  {
   "cell_type": "markdown",
   "metadata": {},
   "source": [
    "## Exercise 5 Calculation of π (Monte Carlo)\n",
    "\n",
    "1. Use the `PiMonteCarlo.py` file to implement the calculation of PI using Monte Carlo.\n",
    "2. Process 0 prints the result.\n",
    "3. Plot the scalability of your implementation. "
   ]
  },
  {
   "cell_type": "code",
   "execution_count": 7,
   "metadata": {},
   "outputs": [
    {
     "name": "stdout",
     "output_type": "stream",
     "text": [
      "Writing PiMonteCarlo.py\n"
     ]
    }
   ],
   "source": [
    "%%file PiMonteCarlo.py\n",
    " # write your program here\n",
    "import random\n",
    "import timeit\n",
    "from mpi4py import MPI\n",
    "\n",
    "\n",
    "COMM = MPI.COMM_WORLD\n",
    "nbOfproc = COMM.Get_size()\n",
    "RANK = COMM.Get_rank()\n",
    "\n",
    "INTERVAL = 1000 ** 2\n",
    "#Local interval for each proc\n",
    "Local_int = INTERVAL // nbOfproc\n",
    "random.seed(42)  \n",
    "\n",
    "def compute_points():\n",
    "   \n",
    "    random.seed(42)  \n",
    "   \n",
    "    circle_points= 0\n",
    "\n",
    "    # Total Random numbers generated= possible x\n",
    "    # values* possible y values\n",
    "    for i in range(Local_int):\n",
    "     \n",
    "        # Randomly generated x and y values from a\n",
    "        # uniform distribution\n",
    "        # Rannge of x and y values is -1 to 1\n",
    "               \n",
    "        rand_x= random.uniform(-1, 1)\n",
    "        rand_y= random.uniform(-1, 1)\n",
    "     \n",
    "        # Distance between (x, y) from the origin\n",
    "        origin_dist= rand_x**2 + rand_y**2\n",
    "     \n",
    "        # Checking if (x, y) lies inside the circle\n",
    "        if origin_dist<= 1:\n",
    "            circle_points+= 1\n",
    "     \n",
    "        # Estimating value of pi,\n",
    "        # pi= 4*(no. of points generated inside the  \n",
    "        # circle)/ (no. of points generated inside the square)\n",
    "   \n",
    "     \n",
    "   \n",
    "    return circle_points\n",
    "\n",
    "\n",
    "start = timeit.default_timer()\n",
    "circle_points = compute_points()\n",
    "end = timeit.default_timer()\n",
    "\n",
    "#Return the sum of all circle points to the process 0\n",
    "circle_points = COMM.reduce(circle_points, op = MPI.SUM, root = 0)\n",
    "if RANK == 0:\n",
    "    pi = 4* circle_points/ INTERVAL\n",
    "    print(\"Circle points number :\",circle_points)\n",
    "    print(\"Final Estimation of Pi=\", pi, \"cpu time :\",(end-start) * 1000)"
   ]
  },
  {
   "cell_type": "code",
   "execution_count": null,
   "metadata": {},
   "outputs": [],
   "source": [
    "import numpy as np\n",
    "import matplotlib.pyplot as plt\n",
    "procs = [1,2,3,4]\n",
    "time = [860, 640.2, 543.5, 300.20]\n",
    "plt.plot(procs, time,'-r')\n",
    "plt.xlabel('Proc')\n",
    "plt.ylabel('CPU time (ms)')"
   ]
  }
 ],
 "metadata": {
  "hide_input": false,
  "kernelspec": {
   "display_name": "Python 3",
   "language": "python",
   "name": "python3"
  },
  "language_info": {
   "codemirror_mode": {
    "name": "ipython",
    "version": 3
   },
   "file_extension": ".py",
   "mimetype": "text/x-python",
   "name": "python",
   "nbconvert_exporter": "python",
   "pygments_lexer": "ipython3",
   "version": "3.8.5"
  }
 },
 "nbformat": 4,
 "nbformat_minor": 5
}
