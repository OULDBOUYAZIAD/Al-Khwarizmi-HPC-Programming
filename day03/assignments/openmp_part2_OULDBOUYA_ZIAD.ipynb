{
 "cells": [
  {
   "cell_type": "markdown",
   "metadata": {},
   "source": [
    "<h1 align=\"center\">OpenMP part 2</h1> "
   ]
  },
  {
   "cell_type": "markdown",
   "metadata": {},
   "source": [
    "## Exercise 1:\n",
    "\n",
    "Using your code 2D non linear convection equation from the `numba_pyccel_assignments`:\n",
    "1. Parallelize the 2D non linear convection equation\n",
    "2. Compare cpu time using different number of threads (Plot a figure of cpu time according to number of threads)"
   ]
  },
  {
   "cell_type": "code",
   "execution_count": 14,
   "metadata": {},
   "outputs": [],
   "source": [
    "import numpy as np\n",
    "import matplotlib as plt\n",
    "import time\n",
    "\n",
    "#fill the libraries import\n",
    "from pyccel.epyccel import epyccel\n",
    "from pyccel.decorators import types"
   ]
  },
  {
   "cell_type": "code",
   "execution_count": 15,
   "metadata": {},
   "outputs": [
    {
     "name": "stdout",
     "output_type": "stream",
     "text": [
      "Requirement already satisfied: matplotlib in c:\\users\\user\\appdata\\roaming\\python\\python38\\site-packages (3.4.1)\n",
      "Requirement already satisfied: pyparsing>=2.2.1 in c:\\users\\user\\anaconda3\\lib\\site-packages (from matplotlib) (2.4.7)\n",
      "Requirement already satisfied: kiwisolver>=1.0.1 in c:\\users\\user\\anaconda3\\lib\\site-packages (from matplotlib) (1.3.0)\n",
      "Requirement already satisfied: cycler>=0.10 in c:\\users\\user\\anaconda3\\lib\\site-packages (from matplotlib) (0.10.0)\n",
      "Requirement already satisfied: numpy>=1.16 in c:\\users\\user\\anaconda3\\lib\\site-packages (from matplotlib) (1.22.3)\n",
      "Requirement already satisfied: pillow>=6.2.0 in c:\\users\\user\\anaconda3\\lib\\site-packages (from matplotlib) (8.0.1)"
     ]
    },
    {
     "name": "stderr",
     "output_type": "stream",
     "text": [
      "WARNING: Ignoring invalid distribution -atplotlib (c:\\users\\user\\anaconda3\\lib\\site-packages)\n",
      "WARNING: Ignoring invalid distribution -atplotlib (c:\\users\\user\\anaconda3\\lib\\site-packages)\n",
      "WARNING: Ignoring invalid distribution -atplotlib (c:\\users\\user\\anaconda3\\lib\\site-packages)\n",
      "WARNING: Ignoring invalid distribution -atplotlib (c:\\users\\user\\anaconda3\\lib\\site-packages)\n",
      "WARNING: Ignoring invalid distribution -atplotlib (c:\\users\\user\\anaconda3\\lib\\site-packages)\n",
      "WARNING: Ignoring invalid distribution -atplotlib (c:\\users\\user\\anaconda3\\lib\\site-packages)\n",
      "WARNING: There was an error checking the latest version of pip.\n"
     ]
    },
    {
     "name": "stdout",
     "output_type": "stream",
     "text": [
      "\n",
      "Requirement already satisfied: python-dateutil>=2.7 in c:\\users\\user\\anaconda3\\lib\\site-packages (from matplotlib) (2.8.1)\n",
      "Requirement already satisfied: six in c:\\users\\user\\anaconda3\\lib\\site-packages (from cycler>=0.10->matplotlib) (1.15.0)\n"
     ]
    }
   ],
   "source": [
    "!pip install matplotlib"
   ]
  },
  {
   "cell_type": "code",
   "execution_count": 16,
   "metadata": {},
   "outputs": [
    {
     "name": "stdout",
     "output_type": "stream",
     "text": [
      "Overwriting twoD_non_linear.py\n"
     ]
    }
   ],
   "source": [
    "%%file twoD_non_linear.py\n",
    "# write your code here\n",
    "import numpy as np\n",
    "\n",
    "@types('float[:,:]','float[:,:]','float[:,:]','float[:,:]','int','float','float','float')\n",
    "def solve_2d_nonlinearconv_pure(u, un, v, vn, nt, dt, dx, dy):\n",
    "\n",
    "    u[int(.5 / dy):int(1 / dy + 1), int(.5 / dx):int(1 / dx + 1)] = 2\n",
    "    v[int(.5 / dy):int(1 / dy + 1), int(.5 / dx):int(1 / dx + 1)] = 2\n",
    "    row, col = u.shape\n",
    "    \n",
    "    #fill the update of u and v\n",
    "    #$ omp parallel\n",
    "    for n in range(nt):\n",
    "        #pragma omp for collapse(2)\n",
    "        for i in range (row):\n",
    "            for j in range(col):\n",
    "                un[i,j] = u[i,j]\n",
    "                vn[i,j] = v[i,j]\n",
    "        #pragma omp for collapse(2)\n",
    "        for i in range(1, row-1):\n",
    "            for j in range(1,col-1):\n",
    "                u[i,j] = un[i,j] - (un[i,j] *( dt / dx) * (un[i,j] - un[i-1,j])) - (vn[i,j] * (dt / dy) * (un[i,j] - un[i,j-1]))\n",
    "                v[i,j] = vn[i,j] - (un[i,j] * (dt / dx) * (vn[i,j] - vn[i-1,j])) -( vn[i,j] * (dt / dy) * (vn[i,j] - vn[i,j-1]))\n",
    "    #$ omp end parallel\n",
    "        \n",
    "    return 0\n",
    "if __name__ == \"__main__\" :\n",
    "        \n",
    "    ##variable declarations\n",
    "    nx = 90\n",
    "    ny = 90\n",
    "    nt = 70\n",
    "    dx = 2 / (nx - 1)\n",
    "    dy = 2 / (ny - 1)\n",
    "    sigma = .2\n",
    "    dt = sigma * dx\n",
    "\n",
    "\n",
    "    u = np.zeros((ny, nx)) \n",
    "    v = np.zeros((ny, nx))\n",
    "    un = np.empty((ny, nx))\n",
    "    vn = np.empty((ny, nx)) \n",
    "\n",
    "    solve_2d_nonlinearconv_pure(u, un, v, vn, nt, dt, dx, dy)\n"
   ]
  },
  {
   "cell_type": "code",
   "execution_count": 20,
   "metadata": {},
   "outputs": [],
   "source": [
    "!pyccel twoD_non_linear.py --language=c --openmp"
   ]
  },
  {
   "cell_type": "markdown",
   "metadata": {},
   "source": [
    "### 12 threads"
   ]
  },
  {
   "cell_type": "code",
   "execution_count": 65,
   "metadata": {},
   "outputs": [
    {
     "name": "stdout",
     "output_type": "stream",
     "text": [
      "CPU time  : 0.00958035100000032\n"
     ]
    }
   ],
   "source": [
    "# start CPU timing\n",
    "start_cpu = time.process_time()\n",
    "\n",
    "#Execution\n",
    "!export OMP_NUM_THREADS=12; ./twoD_non_linear\n",
    "\n",
    "# CPU time\n",
    "end_cpu = time.process_time()\n",
    "cpu_time = end_cpu - start_cpu\n",
    "print(\"CPU time  :\", cpu_time)"
   ]
  },
  {
   "cell_type": "markdown",
   "metadata": {},
   "source": [
    "### 8 threads"
   ]
  },
  {
   "cell_type": "code",
   "execution_count": 66,
   "metadata": {},
   "outputs": [
    {
     "name": "stdout",
     "output_type": "stream",
     "text": [
      "CPU time  : 0.008366307000002848\n"
     ]
    }
   ],
   "source": [
    "# start CPU timing\n",
    "start_cpu = time.process_time()\n",
    "\n",
    "#Execution\n",
    "!export OMP_NUM_THREADS=8; ./twoD_non_linear\n",
    "\n",
    "# CPU time\n",
    "end_cpu = time.process_time()\n",
    "cpu_time = end_cpu - start_cpu\n",
    "print(\"CPU time  :\", cpu_time)"
   ]
  },
  {
   "cell_type": "markdown",
   "metadata": {},
   "source": [
    "### 4 threads"
   ]
  },
  {
   "cell_type": "code",
   "execution_count": 67,
   "metadata": {},
   "outputs": [
    {
     "name": "stdout",
     "output_type": "stream",
     "text": [
      "CPU time  : 0.010328954000002\n"
     ]
    }
   ],
   "source": [
    "# start CPU timing\n",
    "start_cpu = time.process_time()\n",
    "\n",
    "#Execution\n",
    "!export OMP_NUM_THREADS=4; ./twoD_non_linear\n",
    "\n",
    "# CPU time\n",
    "end_cpu = time.process_time()\n",
    "cpu_time = end_cpu - start_cpu\n",
    "print(\"CPU time  :\", cpu_time)"
   ]
  },
  {
   "cell_type": "markdown",
   "metadata": {},
   "source": [
    "## Plot a figure of cpu time according to number of threads"
   ]
  },
  {
   "cell_type": "code",
   "execution_count": 68,
   "metadata": {},
   "outputs": [
    {
     "data": {
      "text/plain": [
       "array([1, 2, 3, 4, 5, 6, 7, 8, 9])"
      ]
     },
     "execution_count": 68,
     "metadata": {},
     "output_type": "execute_result"
    }
   ],
   "source": [
    "Vals = np.arange(1,10,1)\n",
    "Vals"
   ]
  },
  {
   "cell_type": "code",
   "execution_count": 69,
   "metadata": {},
   "outputs": [
    {
     "name": "stdout",
     "output_type": "stream",
     "text": [
      "\n",
      "libgomp: Invalid value for environment variable OMP_NUM_THREADS\n",
      "CPU time  : 0.01051964499999869\n",
      "\n",
      "libgomp: Invalid value for environment variable OMP_NUM_THREADS\n",
      "CPU time  : 0.010801440000001605\n",
      "\n",
      "libgomp: Invalid value for environment variable OMP_NUM_THREADS\n",
      "CPU time  : 0.010025101000000092\n",
      "\n",
      "libgomp: Invalid value for environment variable OMP_NUM_THREADS\n",
      "CPU time  : 0.010446396999999052\n",
      "\n",
      "libgomp: Invalid value for environment variable OMP_NUM_THREADS\n",
      "CPU time  : 0.010304799000000031\n",
      "\n",
      "libgomp: Invalid value for environment variable OMP_NUM_THREADS\n",
      "CPU time  : 0.009711182000000207\n",
      "\n",
      "libgomp: Invalid value for environment variable OMP_NUM_THREADS\n",
      "CPU time  : 0.011594405000000307\n",
      "\n",
      "libgomp: Invalid value for environment variable OMP_NUM_THREADS\n",
      "CPU time  : 0.009753116000002393\n",
      "\n",
      "libgomp: Invalid value for environment variable OMP_NUM_THREADS\n",
      "CPU time  : 0.00955615700000223\n"
     ]
    },
    {
     "data": {
      "text/plain": [
       "array([0.01051964, 0.01080144, 0.0100251 , 0.0104464 , 0.0103048 ,\n",
       "       0.00971118, 0.01159441, 0.00975312, 0.00955616])"
      ]
     },
     "execution_count": 69,
     "metadata": {},
     "output_type": "execute_result"
    }
   ],
   "source": [
    "values = np.zeros((len(Vals)))\n",
    "values\n",
    "\n",
    "for i in Vals :\n",
    "    # start CPU timing\n",
    "    start_cpu = time.process_time()\n",
    "\n",
    "    #Execution\n",
    "    a=i\n",
    "    !export OMP_NUM_THREADS=a; ./twoD_non_linear\n",
    "\n",
    "    # CPU time\n",
    "    end_cpu = time.process_time()\n",
    "    cpu_time = end_cpu - start_cpu\n",
    "    print(\"CPU time  :\", cpu_time)\n",
    "    values[i-1] = cpu_time\n",
    "    \n",
    "values"
   ]
  },
  {
   "cell_type": "code",
   "execution_count": 79,
   "metadata": {},
   "outputs": [
    {
     "data": {
      "text/plain": [
       "(0.0, 0.02)"
      ]
     },
     "execution_count": 79,
     "metadata": {},
     "output_type": "execute_result"
    },
    {
     "data": {
      "image/png": "[encoded data removed]",
      "text/plain": [
       "<Figure size 432x288 with 1 Axes>"
      ]
     },
     "metadata": {
      "needs_background": "light"
     },
     "output_type": "display_data"
    }
   ],
   "source": [
    "import matplotlib.pyplot as plt\n",
    "plt.plot(Vals,values,'-',color ='r')\n",
    "plt.title(\"cpu time according to number of threads\")\n",
    "plt.xlabel(\"number of threads\")\n",
    "plt.ylabel(\"Cpu time\")\n",
    "plt.ylim(0,0.02)\n"
   ]
  },
  {
   "cell_type": "markdown",
   "metadata": {},
   "source": [
    "## Exercise 2:\n",
    "\n",
    "Using your code Navier Stokes equation from the `numba_pyccel_assignments`:\n",
    "1. Pyccelize the Navier Stokes equation (if it's not done).\n",
    "2. Parallelize it using OpenMP.\n",
    "3. Compare cpu time using different number of threads (Plot a figure of cpu time according to number of threads)"
   ]
  },
  {
   "cell_type": "markdown",
   "metadata": {},
   "source": [
    "## Pure function"
   ]
  },
  {
   "cell_type": "code",
   "execution_count": 103,
   "metadata": {},
   "outputs": [],
   "source": [
    "def build_up_b_pure(b, rho, dt, u, v, dx, dy):\n",
    "    row, col = p.shape\n",
    "        \n",
    "        \n",
    "    b[1:-1, 1:-1] = (rho * (1 / dt * \n",
    "                    ((u[1:-1, 2:] - u[1:-1, 0:-2]) / \n",
    "                     (2 * dx) + (v[2:, 1:-1] - v[0:-2, 1:-1]) / (2 * dy)) -\n",
    "                    ((u[1:-1, 2:] - u[1:-1, 0:-2]) / (2 * dx))**2 -\n",
    "                      2 * ((u[2:, 1:-1] - u[0:-2, 1:-1]) / (2 * dy) *\n",
    "                           (v[1:-1, 2:] - v[1:-1, 0:-2]) / (2 * dx))-\n",
    "                          ((v[2:, 1:-1] - v[0:-2, 1:-1]) / (2 * dy))**2))\n",
    "\n",
    "    return b\n",
    "\n",
    "def pressure_poisson_pure(p, dx, dy, b):\n",
    "    pn = np.empty_like(p)\n",
    "    pn = np.copy(p)\n",
    "    #fill the update of p\n",
    "    \n",
    "    for q in range(nit):\n",
    "        pn = p.copy()\n",
    "        p[1:-1, 1:-1] = (((pn[1:-1, 2:] + pn[1:-1, 0:-2]) * dy**2 + \n",
    "                          (pn[2:, 1:-1] + pn[0:-2, 1:-1]) * dx**2) /\n",
    "                          (2 * (dx**2 + dy**2)) -\n",
    "                          dx**2 * dy**2 / (2 * (dx**2 + dy**2)) * \n",
    "                          b[1:-1,1:-1])\n",
    "\n",
    "        p[:, -1] = p[:, -2] # dp/dx = 0 at x = 2\n",
    "        p[0, :] = p[1, :]   # dp/dy = 0 at y = 0\n",
    "        p[:, 0] = p[:, 1]   # dp/dx = 0 at x = 0\n",
    "        p[-1, :] = 0        # p = 0 at y = 2\n",
    "        \n",
    "    return p\n",
    "\n",
    "def cavity_flow_pure(nt, u, v, dt, nx, ny, dx, dy, p, rho, nu):\n",
    "    un = np.empty_like(u)\n",
    "    vn = np.empty_like(v)\n",
    "    b = np.zeros((ny, nx))\n",
    "    \n",
    "    pn = np.empty_like(p)\n",
    "    pn = p.copy()\n",
    "    \n",
    "    #fill the update of u and v\n",
    "    for n in range(nt):\n",
    "        un = u.copy()\n",
    "        vn = v.copy()\n",
    "        b = build_up_b_pure(b, rho, dt, u, v, dx, dy)\n",
    "        p = pressure_poisson_pure(p, dx, dy, b)\n",
    "        u[1:-1, 1:-1] = (un[1:-1, 1:-1]-\n",
    "                        un[1:-1, 1:-1] * dt / dx *\n",
    "                    (un[1:-1, 1:-1] - un[1:-1, 0:-2]) -\n",
    "                        vn[1:-1, 1:-1] * dt / dy *\n",
    "                    (un[1:-1, 1:-1] - un[0:-2, 1:-1]) -\n",
    "                        dt / (2 * rho * dx) * (p[1:-1, 2:] - p[1:-1, 0:-2]) +\n",
    "                        nu * (dt / dx**2 *\n",
    "                    (un[1:-1, 2:] - 2 * un[1:-1, 1:-1] + un[1:-1, 0:-2]) +\n",
    "                        dt / dy**2 *\n",
    "                    (un[2:, 1:-1] - 2 * un[1:-1, 1:-1] + un[0:-2, 1:-1])))\n",
    "        v[1:-1,1:-1] = (vn[1:-1, 1:-1] -\n",
    "                    un[1:-1, 1:-1] * dt / dx *\n",
    "                    (vn[1:-1, 1:-1] - vn[1:-1, 0:-2]) -\n",
    "                    vn[1:-1, 1:-1] * dt / dy *\n",
    "                    (vn[1:-1, 1:-1] - vn[0:-2, 1:-1]) -\n",
    "                    dt / (2 * rho * dy) * (p[2:, 1:-1] - p[0:-2, 1:-1]) +\n",
    "                    nu * (dt / dx**2 *\n",
    "                    (vn[1:-1, 2:] - 2 * vn[1:-1, 1:-1] + vn[1:-1, 0:-2]) +\n",
    "                    dt / dy**2 *\n",
    "                    (vn[2:, 1:-1] - 2 * vn[1:-1, 1:-1] + vn[0:-2, 1:-1])))\n",
    "\n",
    "    u[0, :]  = 0\n",
    "    u[:, 0]  = 0\n",
    "    u[:, -1] = 0\n",
    "    u[-1, :] = 1    # set velocity on cavity lid equal to 1\n",
    "    v[0, :]  = 0\n",
    "    v[-1, :] = 0\n",
    "    v[:, 0]  = 0\n",
    "    v[:, -1] = 0\n",
    "        \n",
    "        \n",
    "    return u, v, p"
   ]
  },
  {
   "cell_type": "code",
   "execution_count": 113,
   "metadata": {},
   "outputs": [],
   "source": [
    "nx = 41\n",
    "ny = 41\n",
    "nt = 500\n",
    "nit = 50\n",
    "c = 1\n",
    "dx = 2 / (nx - 1)\n",
    "dy = 2 / (ny - 1)\n",
    "x = np.linspace(0, 2, nx)\n",
    "y = np.linspace(0, 2, ny)\n",
    "X, Y = np.meshgrid(x, y)\n",
    "\n",
    "rho = 1\n",
    "nu = .1\n",
    "dt = .001\n",
    "\n",
    "v = np.zeros((ny, nx))\n",
    "un = np.ones((ny, nx))\n",
    "vn = np.ones((ny, nx))\n",
    "p = np.zeros((ny, nx))\n",
    "pn = np.ones((ny, nx)) \n",
    "b = np.zeros((ny, nx))\n",
    "\n"
   ]
  },
  {
   "cell_type": "code",
   "execution_count": 114,
   "metadata": {},
   "outputs": [],
   "source": [
    "def cavity_flow_pyc(b: 'float[:,:]',nt:'int', u: 'float[:,:]', v: 'float[:,:]', dt: 'float', nx: 'int', ny: 'int', dx: 'float', dy: 'float', p: 'float[:,:]', rho: 'int', nu:'float',un: 'float[:,:]',vn: 'float[:,:]',pn: 'float[:,:]'):\n",
    "    \n",
    "    row,col = u.shape\n",
    "    \n",
    "    #fill the update of u and v\n",
    "    for n in range(nt):\n",
    "        for i in range(row):\n",
    "            for j in range(col):\n",
    "                un[i,j] = u[i,j]\n",
    "                vn[i,j] = v [i,j]\n",
    "                pn[i,j] = p [i,j]\n",
    "                \n",
    "        # Updqte b\n",
    "        b[1:-1, 1:-1] = (rho * (1 / dt * ((u[1:-1, 2:] - u[1:-1, 0:-2]) / \n",
    "                    (2 * dx) + (v[2:, 1:-1] - v[0:-2, 1:-1]) / (2 * dy)) -\n",
    "                    ((u[1:-1, 2:] - u[1:-1, 0:-2]) / (2 * dx))**2 -\n",
    "                      2 * ((u[2:, 1:-1] - u[0:-2, 1:-1]) / (2 * dy) *\n",
    "                           (v[1:-1, 2:] - v[1:-1, 0:-2]) / (2 * dx))-\n",
    "                          ((v[2:, 1:-1] - v[0:-2, 1:-1]) / (2 * dy))**2))\n",
    "        # Updqte P       \n",
    "        p[1:-1, 1:-1] = (((pn[1:-1, 2:] + pn[1:-1, 0:-2]) * dy**2 + \n",
    "                          (pn[2:, 1:-1] + pn[0:-2, 1:-1]) * dx**2) /\n",
    "                          (2 * (dx**2 + dy**2)) -\n",
    "                          dx**2 * dy**2 / (2 * (dx**2 + dy**2)) * \n",
    "                          b[1:-1,1:-1])\n",
    "\n",
    "        p[:, -1] = p[:, -2] # dp/dx = 0 at x = 2\n",
    "        p[0, :] = p[1, :]   # dp/dy = 0 at y = 0\n",
    "        p[:, 0] = p[:, 1]   # dp/dx = 0 at x = 0\n",
    "        p[-1, :] = 0 \n",
    "        # Updqte U   \n",
    "        u[1:-1, 1:-1] = (un[1:-1, 1:-1]-\n",
    "                        un[1:-1, 1:-1] * dt / dx *\n",
    "                    (un[1:-1, 1:-1] - un[1:-1, 0:-2]) -\n",
    "                        vn[1:-1, 1:-1] * dt / dy *\n",
    "                    (un[1:-1, 1:-1] - un[0:-2, 1:-1]) -\n",
    "                        dt / (2 * rho * dx) * (p[1:-1, 2:] - p[1:-1, 0:-2]) +\n",
    "                        nu * (dt / dx**2 *\n",
    "                    (un[1:-1, 2:] - 2 * un[1:-1, 1:-1] + un[1:-1, 0:-2]) +\n",
    "                        dt / dy**2 *\n",
    "                    (un[2:, 1:-1] - 2 * un[1:-1, 1:-1] + un[0:-2, 1:-1])))\n",
    "        # Updqte V\n",
    "        v[1:-1,1:-1] = (vn[1:-1, 1:-1] -\n",
    "                    un[1:-1, 1:-1] * dt / dx *\n",
    "                    (vn[1:-1, 1:-1] - vn[1:-1, 0:-2]) -\n",
    "                    vn[1:-1, 1:-1] * dt / dy *\n",
    "                    (vn[1:-1, 1:-1] - vn[0:-2, 1:-1]) -\n",
    "                    dt / (2 * rho * dy) * (p[2:, 1:-1] - p[0:-2, 1:-1]) +\n",
    "                    nu * (dt / dx**2 *\n",
    "                    (vn[1:-1, 2:] - 2 * vn[1:-1, 1:-1] + vn[1:-1, 0:-2]) +\n",
    "                    dt / dy**2 *\n",
    "                    (vn[2:, 1:-1] - 2 * vn[1:-1, 1:-1] + vn[0:-2, 1:-1])))\n",
    "\n",
    "    u[0, :]  = 0\n",
    "    u[:, 0]  = 0\n",
    "    u[:, -1] = 0\n",
    "    u[-1, :] = 1    # set velocity on cavity lid equal to 1\n",
    "    v[0, :]  = 0\n",
    "    v[-1, :] = 0\n",
    "    v[:, 0]  = 0\n",
    "    v[:, -1] = 0\n",
    "        \n",
    "        "
   ]
  },
  {
   "cell_type": "code",
   "execution_count": 115,
   "metadata": {},
   "outputs": [],
   "source": [
    "cavity_flow_pyccel = epyccel(cavity_flow_pyc)"
   ]
  },
  {
   "cell_type": "code",
   "execution_count": 116,
   "metadata": {},
   "outputs": [
    {
     "name": "stdout",
     "output_type": "stream",
     "text": [
      "CPU time  : 1.3683612880000027\n"
     ]
    }
   ],
   "source": [
    "# pure Navier Stocks function\n",
    "#Satrting time\n",
    "start_cpu = time.process_time()\n",
    "#Execution\n",
    "cavity_flow_pure(nt, u, v, dt, nx, ny, dx, dy, p, rho, nu)\n",
    "#CPU time\n",
    "end_cpu = time.process_time()\n",
    "cpu_time = end_cpu - start_cpu\n",
    "print(\"CPU time  :\", cpu_time)"
   ]
  },
  {
   "cell_type": "code",
   "execution_count": 117,
   "metadata": {},
   "outputs": [
    {
     "name": "stdout",
     "output_type": "stream",
     "text": [
      "CPU time  : 0.021977251999999226\n"
     ]
    }
   ],
   "source": [
    "# pure Navier Stocks function\n",
    "#Satrting time\n",
    "start_cpu = time.process_time()\n",
    "#Execution\n",
    "cavity_flow_pyccel(b,nt, u, v, dt, nx, ny, dx, dy, p, rho, nu, u, v, p)\n",
    "#CPU time\n",
    "end_cpu = time.process_time()\n",
    "cpu_time = end_cpu - start_cpu\n",
    "print(\"CPU time  :\", cpu_time)"
   ]
  },
  {
   "cell_type": "code",
   "execution_count": 18,
   "metadata": {},
   "outputs": [
    {
     "name": "stdout",
     "output_type": "stream",
     "text": [
      "Writing Navier_Stocks_Openmp.py\n"
     ]
    }
   ],
   "source": [
    "%%file Navier_Stocks_Openmp.py\n",
    "\n",
    "def cavity_flow_pyc(b: 'float[:,:]',nt:'int', u: 'float[:,:]', v: 'float[:,:]', dt: 'float', nx: 'int', ny: 'int', dx: 'float', dy: 'float', p: 'float[:,:]', rho: 'int', nu:'float',un: 'float[:,:]',vn: 'float[:,:]',pn: 'float[:,:]'):\n",
    "    row,col = u.shape\n",
    "    #$ omp parallel\n",
    "    for n in range(nt):\n",
    "        for i in range(row):\n",
    "            for j in range(col):\n",
    "                un[i,j] = u[i,j]\n",
    "                vn[i,j] = v [i,j]\n",
    "                pn[i,j] = p [i,j]\n",
    "                \n",
    "        # Updqte b\n",
    "        b[1:-1, 1:-1] = (rho * (1 / dt * ((u[1:-1, 2:] - u[1:-1, 0:-2]) / \n",
    "                    (2 * dx) + (v[2:, 1:-1] - v[0:-2, 1:-1]) / (2 * dy)) -\n",
    "                    ((u[1:-1, 2:] - u[1:-1, 0:-2]) / (2 * dx))**2 -\n",
    "                      2 * ((u[2:, 1:-1] - u[0:-2, 1:-1]) / (2 * dy) *\n",
    "                           (v[1:-1, 2:] - v[1:-1, 0:-2]) / (2 * dx))-\n",
    "                          ((v[2:, 1:-1] - v[0:-2, 1:-1]) / (2 * dy))**2))\n",
    "        # Updqte P       \n",
    "        p[1:-1, 1:-1] = (((pn[1:-1, 2:] + pn[1:-1, 0:-2]) * dy**2 + \n",
    "                          (pn[2:, 1:-1] + pn[0:-2, 1:-1]) * dx**2) /\n",
    "                          (2 * (dx**2 + dy**2)) -\n",
    "                          dx**2 * dy**2 / (2 * (dx**2 + dy**2)) * \n",
    "                          b[1:-1,1:-1])\n",
    "\n",
    "        p[:, -1] = p[:, -2] # dp/dx = 0 at x = 2\n",
    "        p[0, :] = p[1, :]   # dp/dy = 0 at y = 0\n",
    "        p[:, 0] = p[:, 1]   # dp/dx = 0 at x = 0\n",
    "        p[-1, :] = 0 \n",
    "        # Updqte U   \n",
    "        u[1:-1, 1:-1] = (un[1:-1, 1:-1]-\n",
    "                        un[1:-1, 1:-1] * dt / dx *\n",
    "                    (un[1:-1, 1:-1] - un[1:-1, 0:-2]) -\n",
    "                        vn[1:-1, 1:-1] * dt / dy *\n",
    "                    (un[1:-1, 1:-1] - un[0:-2, 1:-1]) -\n",
    "                        dt / (2 * rho * dx) * (p[1:-1, 2:] - p[1:-1, 0:-2]) +\n",
    "                        nu * (dt / dx**2 *\n",
    "                    (un[1:-1, 2:] - 2 * un[1:-1, 1:-1] + un[1:-1, 0:-2]) +\n",
    "                        dt / dy**2 *\n",
    "                    (un[2:, 1:-1] - 2 * un[1:-1, 1:-1] + un[0:-2, 1:-1])))\n",
    "        # Updqte V\n",
    "        v[1:-1,1:-1] = (vn[1:-1, 1:-1] -\n",
    "                    un[1:-1, 1:-1] * dt / dx *\n",
    "                    (vn[1:-1, 1:-1] - vn[1:-1, 0:-2]) -\n",
    "                    vn[1:-1, 1:-1] * dt / dy *\n",
    "                    (vn[1:-1, 1:-1] - vn[0:-2, 1:-1]) -\n",
    "                    dt / (2 * rho * dy) * (p[2:, 1:-1] - p[0:-2, 1:-1]) +\n",
    "                    nu * (dt / dx**2 *\n",
    "                    (vn[1:-1, 2:] - 2 * vn[1:-1, 1:-1] + vn[1:-1, 0:-2]) +\n",
    "                    dt / dy**2 *\n",
    "                    (vn[2:, 1:-1] - 2 * vn[1:-1, 1:-1] + vn[0:-2, 1:-1])))\n",
    "    #$ omp end parallel\n",
    "\n",
    "    u[0, :]  = 0\n",
    "    u[:, 0]  = 0\n",
    "    u[:, -1] = 0\n",
    "    u[-1, :] = 1    # set velocity on cavity lid equal to 1\n",
    "    v[0, :]  = 0\n",
    "    v[-1, :] = 0\n",
    "    v[:, 0]  = 0\n",
    "    v[:, -1] = 0\n",
    "    \n",
    "if __name__ == \"__main__\":\n",
    "    \n",
    "    import numpy as np\n",
    "\n",
    "    nx = 41\n",
    "    ny = 41\n",
    "    nt = 500\n",
    "    nit = 50\n",
    "    c = 1\n",
    "    dx = 2 / (nx - 1)\n",
    "    dy = 2 / (ny - 1)\n",
    "\n",
    "    rho = 1\n",
    "    nu = .1\n",
    "    dt = .001\n",
    "\n",
    "    u = np.zeros((ny, nx))\n",
    "    v = np.zeros((ny, nx))\n",
    "    un = np.ones((ny, nx))\n",
    "    vn = np.ones((ny, nx))\n",
    "    p = np.zeros((ny, nx))\n",
    "    pn = np.ones((ny, nx)) \n",
    "    b = np.zeros((ny, nx))\n",
    "    \n",
    "    cavity_flow_pyc(b,nt, u, v, dt, nx, ny, dx, dy, p, rho, nu,un,vn,pn)  "
   ]
  },
  {
   "cell_type": "code",
   "execution_count": 119,
   "metadata": {},
   "outputs": [],
   "source": [
    "!pyccel Navier_Stocks_Openmp.py --language=c --openmp"
   ]
  },
  {
   "cell_type": "markdown",
   "metadata": {},
   "source": [
    "## 12 threads"
   ]
  },
  {
   "cell_type": "code",
   "execution_count": 122,
   "metadata": {},
   "outputs": [
    {
     "name": "stdout",
     "output_type": "stream",
     "text": [
      "CPU time  : 0.011582235000002328\n"
     ]
    }
   ],
   "source": [
    "# start CPU timing\n",
    "start_cpu = time.process_time()\n",
    "\n",
    "#Execution\n",
    "!export OMP_NUM_THREADS=12; ./Navier_Stocks_Openmp\n",
    "\n",
    "# CPU time\n",
    "end_cpu = time.process_time()\n",
    "cpu_time = end_cpu - start_cpu\n",
    "print(\"CPU time  :\", cpu_time)"
   ]
  },
  {
   "cell_type": "markdown",
   "metadata": {},
   "source": [
    "## 8 threads"
   ]
  },
  {
   "cell_type": "code",
   "execution_count": 123,
   "metadata": {},
   "outputs": [
    {
     "name": "stdout",
     "output_type": "stream",
     "text": [
      "CPU time  : 0.010445012999998227\n"
     ]
    }
   ],
   "source": [
    "# start CPU timing\n",
    "start_cpu = time.process_time()\n",
    "\n",
    "#Execution\n",
    "!export OMP_NUM_THREADS=8; ./Navier_Stocks_Openmp\n",
    "\n",
    "# CPU time\n",
    "end_cpu = time.process_time()\n",
    "cpu_time = end_cpu - start_cpu\n",
    "print(\"CPU time  :\", cpu_time)"
   ]
  },
  {
   "cell_type": "markdown",
   "metadata": {},
   "source": [
    "##  4 threads"
   ]
  },
  {
   "cell_type": "code",
   "execution_count": 124,
   "metadata": {},
   "outputs": [
    {
     "name": "stdout",
     "output_type": "stream",
     "text": [
      "CPU time  : 0.011524328000000139\n"
     ]
    }
   ],
   "source": [
    "# start CPU timing\n",
    "start_cpu = time.process_time()\n",
    "\n",
    "#Execution\n",
    "!export OMP_NUM_THREADS=4; ./Navier_Stocks_Openmp\n",
    "\n",
    "# CPU time\n",
    "end_cpu = time.process_time()\n",
    "cpu_time = end_cpu - start_cpu\n",
    "print(\"CPU time  :\", cpu_time)"
   ]
  },
  {
   "cell_type": "markdown",
   "metadata": {},
   "source": [
    "## Plot a figure of cpu time according to number of threads"
   ]
  },
  {
   "cell_type": "code",
   "execution_count": 125,
   "metadata": {},
   "outputs": [
    {
     "data": {
      "text/plain": [
       "array([1, 2, 3, 4, 5, 6, 7, 8, 9])"
      ]
     },
     "execution_count": 125,
     "metadata": {},
     "output_type": "execute_result"
    }
   ],
   "source": [
    "Vals2 = np.arange(1,10,1)\n",
    "Vals2"
   ]
  },
  {
   "cell_type": "code",
   "execution_count": 126,
   "metadata": {},
   "outputs": [
    {
     "name": "stdout",
     "output_type": "stream",
     "text": [
      "\n",
      "libgomp: Invalid value for environment variable OMP_NUM_THREADS\n",
      "CPU time  : 0.011168016999999253\n",
      "\n",
      "libgomp: Invalid value for environment variable OMP_NUM_THREADS\n",
      "CPU time  : 0.011048290999998045\n",
      "\n",
      "libgomp: Invalid value for environment variable OMP_NUM_THREADS\n",
      "CPU time  : 0.010575524000000058\n",
      "\n",
      "libgomp: Invalid value for environment variable OMP_NUM_THREADS\n",
      "CPU time  : 0.012329731000001232\n",
      "\n",
      "libgomp: Invalid value for environment variable OMP_NUM_THREADS\n",
      "CPU time  : 0.011308184000000665\n",
      "\n",
      "libgomp: Invalid value for environment variable OMP_NUM_THREADS\n",
      "CPU time  : 0.009366597999999726\n",
      "\n",
      "libgomp: Invalid value for environment variable OMP_NUM_THREADS\n",
      "CPU time  : 0.010185520000000281\n",
      "\n",
      "libgomp: Invalid value for environment variable OMP_NUM_THREADS\n",
      "CPU time  : 0.00818354400000132\n",
      "\n",
      "libgomp: Invalid value for environment variable OMP_NUM_THREADS\n",
      "CPU time  : 0.009924870000002528\n"
     ]
    },
    {
     "data": {
      "text/plain": [
       "array([0.01116802, 0.01104829, 0.01057552, 0.01232973, 0.01130818,\n",
       "       0.0093666 , 0.01018552, 0.00818354, 0.00992487])"
      ]
     },
     "execution_count": 126,
     "metadata": {},
     "output_type": "execute_result"
    }
   ],
   "source": [
    "values = np.zeros((len(Vals)))\n",
    "values\n",
    "\n",
    "for i in Vals :\n",
    "    # start CPU timing\n",
    "    start_cpu = time.process_time()\n",
    "\n",
    "    #Execution\n",
    "    a=i\n",
    "    !export OMP_NUM_THREADS=a; ./Navier_Stocks_Openmp\n",
    "\n",
    "    # CPU time\n",
    "    end_cpu = time.process_time()\n",
    "    cpu_time = end_cpu - start_cpu\n",
    "    print(\"CPU time  :\", cpu_time)\n",
    "    values[i-1] = cpu_time\n",
    "    \n",
    "values"
   ]
  },
  {
   "cell_type": "code",
   "execution_count": 128,
   "metadata": {},
   "outputs": [
    {
     "data": {
      "text/plain": [
       "(0.0, 0.02)"
      ]
     },
     "execution_count": 128,
     "metadata": {},
     "output_type": "execute_result"
    },
    {
     "data": {
      "image/png": "[encoded data removed]",
      "text/plain": [
       "<Figure size 432x288 with 1 Axes>"
      ]
     },
     "metadata": {
      "needs_background": "light"
     },
     "output_type": "display_data"
    }
   ],
   "source": [
    "import matplotlib.pyplot as plt\n",
    "plt.plot(Vals,values,'-',color ='r')\n",
    "plt.title(\"cpu time / number of threads\")\n",
    "plt.xlabel(\"number of threads\")\n",
    "plt.ylabel(\"Cpu time\")\n",
    "plt.ylim(0,0.02)\n"
   ]
  },
  {
   "cell_type": "code",
   "execution_count": null,
   "metadata": {},
   "outputs": [],
   "source": []
  }
 ],
 "metadata": {
  "kernelspec": {
   "display_name": "Python 3",
   "language": "python",
   "name": "python3"
  },
  "language_info": {
   "codemirror_mode": {
    "name": "ipython",
    "version": 3
   },
   "file_extension": ".py",
   "mimetype": "text/x-python",
   "name": "python",
   "nbconvert_exporter": "python",
   "pygments_lexer": "ipython3",
   "version": "3.8.5"
  }
 },
 "nbformat": 4,
 "nbformat_minor": 5
}
